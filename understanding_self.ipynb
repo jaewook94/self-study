{
 "cells": [
  {
   "cell_type": "markdown",
   "id": "f267f4f4",
   "metadata": {},
   "source": [
    "# Understanding Python self"
   ]
  },
  {
   "cell_type": "code",
   "execution_count": 1,
   "id": "fcf7a4a6",
   "metadata": {},
   "outputs": [],
   "source": [
    "class Person:\n",
    "    def sayHello():\n",
    "        print('Hi')"
   ]
  },
  {
   "cell_type": "code",
   "execution_count": 3,
   "id": "eeea743e",
   "metadata": {},
   "outputs": [
    {
     "name": "stdout",
     "output_type": "stream",
     "text": [
      "Hi\n"
     ]
    }
   ],
   "source": [
    "a = Person.sayHello()\n",
    "a"
   ]
  },
  {
   "cell_type": "code",
   "execution_count": 4,
   "id": "57161027",
   "metadata": {},
   "outputs": [],
   "source": [
    "a = Person()"
   ]
  },
  {
   "cell_type": "code",
   "execution_count": 5,
   "id": "093b6576",
   "metadata": {},
   "outputs": [
    {
     "ename": "TypeError",
     "evalue": "sayHello() takes 0 positional arguments but 1 was given",
     "output_type": "error",
     "traceback": [
      "\u001b[1;31m---------------------------------------------------------------------------\u001b[0m",
      "\u001b[1;31mTypeError\u001b[0m                                 Traceback (most recent call last)",
      "\u001b[1;32m<ipython-input-5-75ca8ca19f24>\u001b[0m in \u001b[0;36m<module>\u001b[1;34m\u001b[0m\n\u001b[1;32m----> 1\u001b[1;33m \u001b[0ma\u001b[0m\u001b[1;33m.\u001b[0m\u001b[0msayHello\u001b[0m\u001b[1;33m(\u001b[0m\u001b[1;33m)\u001b[0m\u001b[1;33m\u001b[0m\u001b[1;33m\u001b[0m\u001b[0m\n\u001b[0m",
      "\u001b[1;31mTypeError\u001b[0m: sayHello() takes 0 positional arguments but 1 was given"
     ]
    }
   ],
   "source": [
    "a.sayHello() # Code Error"
   ]
  },
  {
   "cell_type": "code",
   "execution_count": 6,
   "id": "c43e7662",
   "metadata": {},
   "outputs": [],
   "source": [
    "class Person:\n",
    "    def sayHello(self):\n",
    "        print('Hi')"
   ]
  },
  {
   "cell_type": "code",
   "execution_count": 7,
   "id": "f02a750c",
   "metadata": {
    "scrolled": true
   },
   "outputs": [
    {
     "name": "stdout",
     "output_type": "stream",
     "text": [
      "Hi\n"
     ]
    }
   ],
   "source": [
    "a = Person()\n",
    "a.sayHello()"
   ]
  },
  {
   "cell_type": "markdown",
   "id": "b3fbee0a",
   "metadata": {},
   "source": [
    "### Where is 'self'"
   ]
  },
  {
   "cell_type": "code",
   "execution_count": 9,
   "id": "551813a4",
   "metadata": {
    "scrolled": true
   },
   "outputs": [
    {
     "name": "stdout",
     "output_type": "stream",
     "text": [
      "1661924127696\n",
      "Hi\n"
     ]
    }
   ],
   "source": [
    "class Person:\n",
    "    def sayHello(self):\n",
    "        print(id(self)) # 'self' is here! -> 1661924127696\n",
    "        print('Hi')\n",
    "        \n",
    "a = Person()\n",
    "a.sayHello()"
   ]
  },
  {
   "cell_type": "markdown",
   "id": "b274717d",
   "metadata": {},
   "source": [
    "### Then where is 'a'? (location of 'self' and 'a' are same.)"
   ]
  },
  {
   "cell_type": "code",
   "execution_count": 12,
   "id": "97e2bc6e",
   "metadata": {
    "scrolled": true
   },
   "outputs": [
    {
     "name": "stdout",
     "output_type": "stream",
     "text": [
      "1661924127696\n"
     ]
    }
   ],
   "source": [
    "print(id(a))"
   ]
  },
  {
   "cell_type": "code",
   "execution_count": 13,
   "id": "e9b87de0",
   "metadata": {},
   "outputs": [
    {
     "ename": "TypeError",
     "evalue": "sayHello() missing 1 required positional argument: 'self'",
     "output_type": "error",
     "traceback": [
      "\u001b[1;31m---------------------------------------------------------------------------\u001b[0m",
      "\u001b[1;31mTypeError\u001b[0m                                 Traceback (most recent call last)",
      "\u001b[1;32m<ipython-input-13-0f0eb6cc12c1>\u001b[0m in \u001b[0;36m<module>\u001b[1;34m\u001b[0m\n\u001b[0;32m      4\u001b[0m         \u001b[0mprint\u001b[0m\u001b[1;33m(\u001b[0m\u001b[1;34m'Hi'\u001b[0m\u001b[1;33m)\u001b[0m\u001b[1;33m\u001b[0m\u001b[1;33m\u001b[0m\u001b[0m\n\u001b[0;32m      5\u001b[0m \u001b[1;33m\u001b[0m\u001b[0m\n\u001b[1;32m----> 6\u001b[1;33m \u001b[0mPerson\u001b[0m\u001b[1;33m.\u001b[0m\u001b[0msayHello\u001b[0m\u001b[1;33m(\u001b[0m\u001b[1;33m)\u001b[0m\u001b[1;33m\u001b[0m\u001b[1;33m\u001b[0m\u001b[0m\n\u001b[0m",
      "\u001b[1;31mTypeError\u001b[0m: sayHello() missing 1 required positional argument: 'self'"
     ]
    }
   ],
   "source": [
    "class Person:\n",
    "    def sayHello(self):\n",
    "        print(id(self)) # 'self' is here! -> 1661924127696\n",
    "        print('Hi')\n",
    "        \n",
    "Person.sayHello()"
   ]
  },
  {
   "cell_type": "code",
   "execution_count": 19,
   "id": "c2c451f0",
   "metadata": {},
   "outputs": [
    {
     "name": "stdout",
     "output_type": "stream",
     "text": [
      "1661924127840\n",
      "Hi\n",
      "1661924127840\n",
      "Hi\n"
     ]
    }
   ],
   "source": [
    "class Person:\n",
    "    def sayHello(self):\n",
    "        print(id(self)) # 'self' is here! -> 1661924127696\n",
    "        print('Hi')\n",
    "        \n",
    "a = Person()\n",
    "Person.sayHello(a)\n",
    "a.sayHello()"
   ]
  },
  {
   "cell_type": "code",
   "execution_count": 20,
   "id": "e8d22a4b",
   "metadata": {},
   "outputs": [
    {
     "name": "stdout",
     "output_type": "stream",
     "text": [
      "1661924127840\n"
     ]
    }
   ],
   "source": [
    "print(id(a))"
   ]
  },
  {
   "cell_type": "code",
   "execution_count": 23,
   "id": "3b710ecc",
   "metadata": {},
   "outputs": [
    {
     "name": "stdout",
     "output_type": "stream",
     "text": [
      "1661924242960\n",
      "Hello\n",
      "1661924242960\n",
      "1661924242912\n",
      "Hello\n",
      "1661924242912\n"
     ]
    }
   ],
   "source": [
    "class Person:\n",
    "    def sayHello(self):\n",
    "        print(id(self))\n",
    "        print('Hello')\n",
    "        \n",
    "class Robot:\n",
    "    life = 1000\n",
    "\n",
    "a = Person()\n",
    "b = Robot()\n",
    "\n",
    "Person.sayHello(a)\n",
    "print(id(a))\n",
    "Person.sayHello(b)\n",
    "print(id(b))"
   ]
  },
  {
   "cell_type": "code",
   "execution_count": 25,
   "id": "0d000f0c",
   "metadata": {},
   "outputs": [
    {
     "name": "stdout",
     "output_type": "stream",
     "text": [
      "1661924242960\n",
      "Hello\n"
     ]
    }
   ],
   "source": [
    "a.sayHello()"
   ]
  },
  {
   "cell_type": "code",
   "execution_count": 27,
   "id": "fdd1ae76",
   "metadata": {},
   "outputs": [
    {
     "data": {
      "text/plain": [
       "1661924242960"
      ]
     },
     "execution_count": 27,
     "metadata": {},
     "output_type": "execute_result"
    }
   ],
   "source": [
    "id(a)"
   ]
  }
 ],
 "metadata": {
  "kernelspec": {
   "display_name": "Python 3",
   "language": "python",
   "name": "python3"
  },
  "language_info": {
   "codemirror_mode": {
    "name": "ipython",
    "version": 3
   },
   "file_extension": ".py",
   "mimetype": "text/x-python",
   "name": "python",
   "nbconvert_exporter": "python",
   "pygments_lexer": "ipython3",
   "version": "3.8.5"
  }
 },
 "nbformat": 4,
 "nbformat_minor": 5
}
