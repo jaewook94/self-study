{
 "cells": [
  {
   "cell_type": "code",
   "execution_count": null,
   "id": "6768c926",
   "metadata": {},
   "outputs": [],
   "source": [
    "if opt.resume.startswith(WANDB_ARTIFACT_PREFIX):"
   ]
  },
  {
   "cell_type": "code",
   "execution_count": null,
   "id": "1cc86238",
   "metadata": {},
   "outputs": [],
   "source": [
    "def check_wandb_resume(opt):\n",
    "    process_wandb_config_ddp_mode(opt) if RANK not in [-1, 0] else None\n",
    "    if isinstance(opt.resume, str):\n",
    "        if opt.resume.startswith(WANDB_ARTIFACT_PREFIX):\n",
    "            if RANK not in [-1, 0]:  # For resuming DDP runs\n",
    "                entity, project, run_id, model_artifact_name = get_run_info(opt.resume)\n",
    "                api = wandb.Api()\n",
    "                artifact = api.artifact(entity + '/' + project + '/' + model_artifact_name + ':latest')\n",
    "                modeldir = artifact.download()\n",
    "                opt.weights = str(Path(modeldir) / \"last.pt\")\n",
    "            return True\n",
    "    return None"
   ]
  }
 ],
 "metadata": {
  "kernelspec": {
   "display_name": "Python 3",
   "language": "python",
   "name": "python3"
  },
  "language_info": {
   "codemirror_mode": {
    "name": "ipython",
    "version": 3
   },
   "file_extension": ".py",
   "mimetype": "text/x-python",
   "name": "python",
   "nbconvert_exporter": "python",
   "pygments_lexer": "ipython3",
   "version": "3.8.5"
  }
 },
 "nbformat": 4,
 "nbformat_minor": 5
}
