{
 "cells": [
  {
   "cell_type": "code",
   "execution_count": 1,
   "id": "291eb4af",
   "metadata": {},
   "outputs": [],
   "source": [
    "def colorstr(*input):\n",
    "    *args, string = input if len(input) > 1 else ('blue', 'bold', input[0])  # color arguments, string\n",
    "    colors = {'black': '\\033[30m',  # basic colors\n",
    "              'red': '\\033[31m',\n",
    "              'green': '\\033[32m',\n",
    "              'yellow': '\\033[33m',\n",
    "              'blue': '\\033[34m',\n",
    "              'magenta': '\\033[35m',\n",
    "              'cyan': '\\033[36m',\n",
    "              'white': '\\033[37m',\n",
    "              'bright_black': '\\033[90m',  # bright colors\n",
    "              'bright_red': '\\033[91m',\n",
    "              'bright_green': '\\033[92m',\n",
    "              'bright_yellow': '\\033[93m',\n",
    "              'bright_blue': '\\033[94m',\n",
    "              'bright_magenta': '\\033[95m',\n",
    "              'bright_cyan': '\\033[96m',\n",
    "              'bright_white': '\\033[97m',\n",
    "              'end': '\\033[0m',  # misc\n",
    "              'bold': '\\033[1m',\n",
    "              'underline': '\\033[4m'}\n",
    "    return ''.join(colors[x] for x in args) + f'{string}' + colors['end']"
   ]
  },
  {
   "cell_type": "code",
   "execution_count": null,
   "id": "2d558f4d",
   "metadata": {},
   "outputs": [],
   "source": []
  }
 ],
 "metadata": {
  "kernelspec": {
   "display_name": "Python 3",
   "language": "python",
   "name": "python3"
  },
  "language_info": {
   "codemirror_mode": {
    "name": "ipython",
    "version": 3
   },
   "file_extension": ".py",
   "mimetype": "text/x-python",
   "name": "python",
   "nbconvert_exporter": "python",
   "pygments_lexer": "ipython3",
   "version": "3.8.5"
  }
 },
 "nbformat": 4,
 "nbformat_minor": 5
}
