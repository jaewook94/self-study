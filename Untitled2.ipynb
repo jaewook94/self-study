{
 "cells": [
  {
   "cell_type": "code",
   "execution_count": 1,
   "id": "99f66732",
   "metadata": {},
   "outputs": [],
   "source": [
    "def try_except(func):\n",
    "    # try-except function. Usage: @try_except decorator\n",
    "    def handler(*args, **kwargs):\n",
    "        try:\n",
    "            func(*args, **kwargs)\n",
    "        except Exception as e:\n",
    "            print(e)\n",
    "\n",
    "    return handler"
   ]
  },
  {
   "cell_type": "code",
   "execution_count": null,
   "id": "2b3dee9c",
   "metadata": {},
   "outputs": [],
   "source": [
    "@try_except\n",
    "        "
   ]
  }
 ],
 "metadata": {
  "kernelspec": {
   "display_name": "Python 3",
   "language": "python",
   "name": "python3"
  },
  "language_info": {
   "codemirror_mode": {
    "name": "ipython",
    "version": 3
   },
   "file_extension": ".py",
   "mimetype": "text/x-python",
   "name": "python",
   "nbconvert_exporter": "python",
   "pygments_lexer": "ipython3",
   "version": "3.8.5"
  }
 },
 "nbformat": 4,
 "nbformat_minor": 5
}
