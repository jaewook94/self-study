{
 "cells": [
  {
   "cell_type": "markdown",
   "id": "7976da83",
   "metadata": {},
   "source": [
    "### Understanding args"
   ]
  },
  {
   "cell_type": "code",
   "execution_count": 20,
   "id": "ceb47518",
   "metadata": {},
   "outputs": [],
   "source": [
    "def lastName_and_FirstName(*Names):\n",
    "    for name in Names:\n",
    "        print(\"%s %s\" % (name[0], name[1:3]), end=' ')\n",
    "    print('\\n')\n",
    "    print(type(Names), Names)"
   ]
  },
  {
   "cell_type": "code",
   "execution_count": 21,
   "id": "477b3093",
   "metadata": {
    "scrolled": true
   },
   "outputs": [
    {
     "name": "stdout",
     "output_type": "stream",
     "text": [
      "이 재욱 \n",
      "\n",
      "<class 'tuple'> ('이재욱',)\n"
     ]
    }
   ],
   "source": [
    "lastName_and_FirstName('이재욱')"
   ]
  },
  {
   "cell_type": "code",
   "execution_count": 22,
   "id": "512797b1",
   "metadata": {},
   "outputs": [
    {
     "name": "stdout",
     "output_type": "stream",
     "text": [
      "이 재욱 안 재욱 김 재욱 \n",
      "\n",
      "<class 'tuple'> ('이재욱', '안재욱', '김재욱')\n"
     ]
    }
   ],
   "source": [
    "lastName_and_FirstName('이재욱', '안재욱', '김재욱')"
   ]
  },
  {
   "cell_type": "markdown",
   "id": "51d5d6a5",
   "metadata": {},
   "source": [
    "### Understanding kwargs"
   ]
  },
  {
   "cell_type": "code",
   "execution_count": 6,
   "id": "72e9dc91",
   "metadata": {},
   "outputs": [
    {
     "data": {
      "text/plain": [
       "dict_items([('name', 'jaewook'), ('age', 28)])"
      ]
     },
     "execution_count": 6,
     "metadata": {},
     "output_type": "execute_result"
    }
   ],
   "source": [
    "a = {'name' : 'jaewook', 'age' : 28}\n",
    "a.items()"
   ]
  },
  {
   "cell_type": "code",
   "execution_count": 9,
   "id": "6af27f1b",
   "metadata": {},
   "outputs": [
    {
     "name": "stdout",
     "output_type": "stream",
     "text": [
      "name is jaewook\n",
      "age is 28\n"
     ]
    }
   ],
   "source": [
    "for key, value in a.items():\n",
    "    print('{0} is {1}'.format(key, value))"
   ]
  },
  {
   "cell_type": "code",
   "execution_count": 10,
   "id": "aa7f2fa7",
   "metadata": {},
   "outputs": [],
   "source": [
    "def introducingEnglishName(**kwargs):\n",
    "    for key, value in kwargs.items():\n",
    "        print('{0} is {1}'.format(key, value))"
   ]
  },
  {
   "cell_type": "code",
   "execution_count": 13,
   "id": "c16aceab",
   "metadata": {},
   "outputs": [
    {
     "name": "stdout",
     "output_type": "stream",
     "text": [
      "my_name is Jaewook\n"
     ]
    }
   ],
   "source": [
    "introducingEnglishName(my_name = 'Jaewook')"
   ]
  }
 ],
 "metadata": {
  "kernelspec": {
   "display_name": "Python 3",
   "language": "python",
   "name": "python3"
  },
  "language_info": {
   "codemirror_mode": {
    "name": "ipython",
    "version": 3
   },
   "file_extension": ".py",
   "mimetype": "text/x-python",
   "name": "python",
   "nbconvert_exporter": "python",
   "pygments_lexer": "ipython3",
   "version": "3.8.5"
  }
 },
 "nbformat": 4,
 "nbformat_minor": 5
}
