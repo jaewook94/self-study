{
 "cells": [
  {
   "cell_type": "code",
   "execution_count": null,
   "id": "2624dc8d",
   "metadata": {},
   "outputs": [],
   "source": [
    "for i in s1df_c:\n",
    "    a = s1df_c['시군구명']\n",
    "    corr = s1df_c[s1df_c['시군구명']==a.unique()[i-1]].corr(method='pearson')\n",
    "    rank = corr['총_매출_금액'][corr['총_매출_금액'].rank()>=10]"
   ]
  }
 ],
 "metadata": {
  "kernelspec": {
   "display_name": "Python 3",
   "language": "python",
   "name": "python3"
  },
  "language_info": {
   "codemirror_mode": {
    "name": "ipython",
    "version": 3
   },
   "file_extension": ".py",
   "mimetype": "text/x-python",
   "name": "python",
   "nbconvert_exporter": "python",
   "pygments_lexer": "ipython3",
   "version": "3.8.5"
  }
 },
 "nbformat": 4,
 "nbformat_minor": 5
}
