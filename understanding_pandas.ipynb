{
 "cells": [
  {
   "cell_type": "code",
   "execution_count": 2,
   "id": "31628c4e",
   "metadata": {},
   "outputs": [],
   "source": [
    "import pandas as pd"
   ]
  },
  {
   "cell_type": "code",
   "execution_count": 11,
   "id": "454704fb",
   "metadata": {},
   "outputs": [],
   "source": [
    "data = {'team' : ['russia', 'saudiarabia', 'egypt', 'uruguay'],\n",
    "        'against': ['saudiarabia', 'russia', 'uruguay', 'egypt'],\n",
    "        'fifa_rank': [65, 63, 31, 21]}\n",
    "\n",
    "columns = ['team', 'against', 'fifa_rank']"
   ]
  },
  {
   "cell_type": "code",
   "execution_count": 12,
   "id": "453a3461",
   "metadata": {},
   "outputs": [],
   "source": [
    "df = pd.DataFrame(data, columns = columns)"
   ]
  },
  {
   "cell_type": "code",
   "execution_count": 13,
   "id": "85dedaa8",
   "metadata": {},
   "outputs": [
    {
     "data": {
      "text/html": [
       "<div>\n",
       "<style scoped>\n",
       "    .dataframe tbody tr th:only-of-type {\n",
       "        vertical-align: middle;\n",
       "    }\n",
       "\n",
       "    .dataframe tbody tr th {\n",
       "        vertical-align: top;\n",
       "    }\n",
       "\n",
       "    .dataframe thead th {\n",
       "        text-align: right;\n",
       "    }\n",
       "</style>\n",
       "<table border=\"1\" class=\"dataframe\">\n",
       "  <thead>\n",
       "    <tr style=\"text-align: right;\">\n",
       "      <th></th>\n",
       "      <th>team</th>\n",
       "      <th>against</th>\n",
       "      <th>fifa_rank</th>\n",
       "    </tr>\n",
       "  </thead>\n",
       "  <tbody>\n",
       "    <tr>\n",
       "      <th>0</th>\n",
       "      <td>russia</td>\n",
       "      <td>saudiarabia</td>\n",
       "      <td>65</td>\n",
       "    </tr>\n",
       "    <tr>\n",
       "      <th>1</th>\n",
       "      <td>saudiarabia</td>\n",
       "      <td>russia</td>\n",
       "      <td>63</td>\n",
       "    </tr>\n",
       "    <tr>\n",
       "      <th>2</th>\n",
       "      <td>egypt</td>\n",
       "      <td>uruguay</td>\n",
       "      <td>31</td>\n",
       "    </tr>\n",
       "    <tr>\n",
       "      <th>3</th>\n",
       "      <td>uruguay</td>\n",
       "      <td>egypt</td>\n",
       "      <td>21</td>\n",
       "    </tr>\n",
       "  </tbody>\n",
       "</table>\n",
       "</div>"
      ],
      "text/plain": [
       "          team      against  fifa_rank\n",
       "0       russia  saudiarabia         65\n",
       "1  saudiarabia       russia         63\n",
       "2        egypt      uruguay         31\n",
       "3      uruguay        egypt         21"
      ]
     },
     "execution_count": 13,
     "metadata": {},
     "output_type": "execute_result"
    }
   ],
   "source": [
    "df"
   ]
  },
  {
   "cell_type": "code",
   "execution_count": 15,
   "id": "b2215df6",
   "metadata": {},
   "outputs": [
    {
     "data": {
      "text/plain": [
       "pandas.core.series.Series"
      ]
     },
     "execution_count": 15,
     "metadata": {},
     "output_type": "execute_result"
    }
   ],
   "source": [
    "type(df['team'])"
   ]
  },
  {
   "cell_type": "code",
   "execution_count": 18,
   "id": "4ad1af7c",
   "metadata": {},
   "outputs": [
    {
     "data": {
      "text/plain": [
       "0    saudiarabia\n",
       "1         russia\n",
       "2        uruguay\n",
       "3          egypt\n",
       "Name: against, dtype: object"
      ]
     },
     "execution_count": 18,
     "metadata": {},
     "output_type": "execute_result"
    }
   ],
   "source": [
    "df['winning_rate'] = df['team']."
   ]
  },
  {
   "cell_type": "code",
   "execution_count": 34,
   "id": "e034c989",
   "metadata": {},
   "outputs": [
    {
     "name": "stdout",
     "output_type": "stream",
     "text": [
      "47.345\n",
      "        47\n",
      "0000000047\n",
      "000047.345\n",
      "    47.345\n"
     ]
    }
   ],
   "source": [
    "a = 45\n",
    "b = a + 2.345\n",
    "print(f'{b}')\n",
    "print(f'{int(b):10}')\n",
    "print(f'{int(b):010}')\n",
    "print(f'{b:010}')\n",
    "print(f'{b:10}')"
   ]
  },
  {
   "cell_type": "code",
   "execution_count": 35,
   "id": "4b2405b6",
   "metadata": {},
   "outputs": [
    {
     "data": {
      "text/plain": [
       "RangeIndex(start=0, stop=4, step=1)"
      ]
     },
     "execution_count": 35,
     "metadata": {},
     "output_type": "execute_result"
    }
   ],
   "source": [
    "a = pd.Series([1,9,3,6])\n",
    "a.index"
   ]
  },
  {
   "cell_type": "code",
   "execution_count": 38,
   "id": "53f001d5",
   "metadata": {},
   "outputs": [
    {
     "data": {
      "text/plain": [
       "array([1, 9, 3, 6], dtype=int64)"
      ]
     },
     "execution_count": 38,
     "metadata": {},
     "output_type": "execute_result"
    }
   ],
   "source": [
    "a.values"
   ]
  },
  {
   "cell_type": "code",
   "execution_count": 42,
   "id": "f8a40cb9",
   "metadata": {},
   "outputs": [
    {
     "data": {
      "text/plain": [
       "(3, 6, 9)"
      ]
     },
     "execution_count": 42,
     "metadata": {},
     "output_type": "execute_result"
    }
   ],
   "source": [
    "a[2], a[3],a[1]"
   ]
  },
  {
   "cell_type": "code",
   "execution_count": 51,
   "id": "1ab25696",
   "metadata": {},
   "outputs": [],
   "source": [
    "b = pd.Series([1,9,3,6], index = ['바', '보', '멍', '청'])"
   ]
  },
  {
   "cell_type": "code",
   "execution_count": 52,
   "id": "f993e4b4",
   "metadata": {},
   "outputs": [
    {
     "data": {
      "text/plain": [
       "바    1\n",
       "보    9\n",
       "멍    3\n",
       "청    6\n",
       "dtype: int64"
      ]
     },
     "execution_count": 52,
     "metadata": {},
     "output_type": "execute_result"
    }
   ],
   "source": [
    "b"
   ]
  },
  {
   "cell_type": "code",
   "execution_count": 53,
   "id": "70e85ec1",
   "metadata": {},
   "outputs": [],
   "source": [
    "data = {\"이재욱\" : 28, \"김재욱\" : 18, \"안재욱\" : 38}"
   ]
  },
  {
   "cell_type": "code",
   "execution_count": 54,
   "id": "c8041338",
   "metadata": {},
   "outputs": [
    {
     "data": {
      "text/plain": [
       "이재욱    28\n",
       "김재욱    18\n",
       "안재욱    38\n",
       "dtype: int64"
      ]
     },
     "execution_count": 54,
     "metadata": {},
     "output_type": "execute_result"
    }
   ],
   "source": [
    "c = pd.Series(data)\n",
    "c"
   ]
  },
  {
   "cell_type": "code",
   "execution_count": 55,
   "id": "4ae5133c",
   "metadata": {},
   "outputs": [
    {
     "data": {
      "text/plain": [
       "Index(['이재욱', '김재욱', '안재욱'], dtype='object')"
      ]
     },
     "execution_count": 55,
     "metadata": {},
     "output_type": "execute_result"
    }
   ],
   "source": [
    "c.index"
   ]
  },
  {
   "cell_type": "code",
   "execution_count": 56,
   "id": "0c95c0f9",
   "metadata": {},
   "outputs": [
    {
     "data": {
      "text/plain": [
       "array([28, 18, 38], dtype=int64)"
      ]
     },
     "execution_count": 56,
     "metadata": {},
     "output_type": "execute_result"
    }
   ],
   "source": [
    "c.values"
   ]
  },
  {
   "cell_type": "code",
   "execution_count": 58,
   "id": "645c9d55",
   "metadata": {},
   "outputs": [
    {
     "data": {
      "text/plain": [
       "Index(['이재욱', '김재욱', '안재욱'], dtype='object')"
      ]
     },
     "execution_count": 58,
     "metadata": {},
     "output_type": "execute_result"
    }
   ],
   "source": [
    "c.keys()"
   ]
  },
  {
   "cell_type": "code",
   "execution_count": 59,
   "id": "91cb25a3",
   "metadata": {},
   "outputs": [
    {
     "data": {
      "text/plain": [
       "<bound method Series.keys of 이재욱    28\n",
       "김재욱    18\n",
       "안재욱    38\n",
       "dtype: int64>"
      ]
     },
     "execution_count": 59,
     "metadata": {},
     "output_type": "execute_result"
    }
   ],
   "source": [
    "c.keys"
   ]
  },
  {
   "cell_type": "code",
   "execution_count": 60,
   "id": "05e75911",
   "metadata": {},
   "outputs": [
    {
     "data": {
      "text/plain": [
       "이재욱    28\n",
       "김재욱    18\n",
       "안재욱    38\n",
       "dtype: int64"
      ]
     },
     "execution_count": 60,
     "metadata": {},
     "output_type": "execute_result"
    }
   ],
   "source": [
    "c"
   ]
  },
  {
   "cell_type": "code",
   "execution_count": 61,
   "id": "4aef6315",
   "metadata": {},
   "outputs": [],
   "source": [
    "c.name = '재욱이름가진사람'"
   ]
  },
  {
   "cell_type": "code",
   "execution_count": 62,
   "id": "5a901929",
   "metadata": {},
   "outputs": [
    {
     "data": {
      "text/plain": [
       "이재욱    28\n",
       "김재욱    18\n",
       "안재욱    38\n",
       "Name: 재욱이름가진사람, dtype: int64"
      ]
     },
     "execution_count": 62,
     "metadata": {},
     "output_type": "execute_result"
    }
   ],
   "source": [
    "c"
   ]
  },
  {
   "cell_type": "code",
   "execution_count": 63,
   "id": "30dcda80",
   "metadata": {},
   "outputs": [],
   "source": [
    "c.index.name = '성함'"
   ]
  },
  {
   "cell_type": "code",
   "execution_count": 64,
   "id": "8dd2e988",
   "metadata": {},
   "outputs": [
    {
     "data": {
      "text/plain": [
       "성함\n",
       "이재욱    28\n",
       "김재욱    18\n",
       "안재욱    38\n",
       "Name: 재욱이름가진사람, dtype: int64"
      ]
     },
     "execution_count": 64,
     "metadata": {},
     "output_type": "execute_result"
    }
   ],
   "source": [
    "c"
   ]
  },
  {
   "cell_type": "code",
   "execution_count": 74,
   "id": "c5d7c5a1",
   "metadata": {},
   "outputs": [
    {
     "ename": "AttributeError",
     "evalue": "'Series' object has no attribute 'colums'",
     "output_type": "error",
     "traceback": [
      "\u001b[1;31m---------------------------------------------------------------------------\u001b[0m",
      "\u001b[1;31mAttributeError\u001b[0m                            Traceback (most recent call last)",
      "\u001b[1;32m<ipython-input-74-60fc970e9185>\u001b[0m in \u001b[0;36m<module>\u001b[1;34m\u001b[0m\n\u001b[1;32m----> 1\u001b[1;33m \u001b[0mc\u001b[0m\u001b[1;33m.\u001b[0m\u001b[0mcolums\u001b[0m\u001b[1;33m.\u001b[0m\u001b[0mname\u001b[0m \u001b[1;33m=\u001b[0m \u001b[1;34m'나이'\u001b[0m\u001b[1;33m\u001b[0m\u001b[1;33m\u001b[0m\u001b[0m\n\u001b[0m",
      "\u001b[1;32mC:\\anaconda3\\lib\\site-packages\\pandas\\core\\generic.py\u001b[0m in \u001b[0;36m__getattr__\u001b[1;34m(self, name)\u001b[0m\n\u001b[0;32m   5463\u001b[0m             \u001b[1;32mif\u001b[0m \u001b[0mself\u001b[0m\u001b[1;33m.\u001b[0m\u001b[0m_info_axis\u001b[0m\u001b[1;33m.\u001b[0m\u001b[0m_can_hold_identifiers_and_holds_name\u001b[0m\u001b[1;33m(\u001b[0m\u001b[0mname\u001b[0m\u001b[1;33m)\u001b[0m\u001b[1;33m:\u001b[0m\u001b[1;33m\u001b[0m\u001b[1;33m\u001b[0m\u001b[0m\n\u001b[0;32m   5464\u001b[0m                 \u001b[1;32mreturn\u001b[0m \u001b[0mself\u001b[0m\u001b[1;33m[\u001b[0m\u001b[0mname\u001b[0m\u001b[1;33m]\u001b[0m\u001b[1;33m\u001b[0m\u001b[1;33m\u001b[0m\u001b[0m\n\u001b[1;32m-> 5465\u001b[1;33m             \u001b[1;32mreturn\u001b[0m \u001b[0mobject\u001b[0m\u001b[1;33m.\u001b[0m\u001b[0m__getattribute__\u001b[0m\u001b[1;33m(\u001b[0m\u001b[0mself\u001b[0m\u001b[1;33m,\u001b[0m \u001b[0mname\u001b[0m\u001b[1;33m)\u001b[0m\u001b[1;33m\u001b[0m\u001b[1;33m\u001b[0m\u001b[0m\n\u001b[0m\u001b[0;32m   5466\u001b[0m \u001b[1;33m\u001b[0m\u001b[0m\n\u001b[0;32m   5467\u001b[0m     \u001b[1;32mdef\u001b[0m \u001b[0m__setattr__\u001b[0m\u001b[1;33m(\u001b[0m\u001b[0mself\u001b[0m\u001b[1;33m,\u001b[0m \u001b[0mname\u001b[0m\u001b[1;33m:\u001b[0m \u001b[0mstr\u001b[0m\u001b[1;33m,\u001b[0m \u001b[0mvalue\u001b[0m\u001b[1;33m)\u001b[0m \u001b[1;33m->\u001b[0m \u001b[1;32mNone\u001b[0m\u001b[1;33m:\u001b[0m\u001b[1;33m\u001b[0m\u001b[1;33m\u001b[0m\u001b[0m\n",
      "\u001b[1;31mAttributeError\u001b[0m: 'Series' object has no attribute 'colums'"
     ]
    }
   ],
   "source": [
    "c.colums.name = '나이'"
   ]
  },
  {
   "cell_type": "code",
   "execution_count": 77,
   "id": "5904473d",
   "metadata": {},
   "outputs": [
    {
     "data": {
      "text/plain": [
       "<bound method Series.keys of 성함\n",
       "이재욱    28\n",
       "김재욱    18\n",
       "안재욱    38\n",
       "Name: 재욱이름가진사람, dtype: int64>"
      ]
     },
     "execution_count": 77,
     "metadata": {},
     "output_type": "execute_result"
    }
   ],
   "source": [
    "c.keys"
   ]
  },
  {
   "cell_type": "code",
   "execution_count": 78,
   "id": "742fc46f",
   "metadata": {},
   "outputs": [
    {
     "data": {
      "text/plain": [
       "list"
      ]
     },
     "execution_count": 78,
     "metadata": {},
     "output_type": "execute_result"
    }
   ],
   "source": [
    "aa = [1,2,3,4]\n",
    "type(aa)"
   ]
  },
  {
   "cell_type": "code",
   "execution_count": 87,
   "id": "0abdb952",
   "metadata": {},
   "outputs": [
    {
     "data": {
      "text/plain": [
       "4"
      ]
     },
     "execution_count": 87,
     "metadata": {},
     "output_type": "execute_result"
    }
   ],
   "source": [
    "len(aa)"
   ]
  },
  {
   "cell_type": "code",
   "execution_count": 88,
   "id": "9796be04",
   "metadata": {},
   "outputs": [
    {
     "data": {
      "text/plain": [
       "{0: [], 1: [], 2: [], 3: [], 4: [], 5: [], 6: [], 7: [], 8: [], 9: []}"
      ]
     },
     "execution_count": 88,
     "metadata": {},
     "output_type": "execute_result"
    }
   ],
   "source": [
    "dict_ = {i:[] for i in range(10)}\n",
    "dict_"
   ]
  },
  {
   "cell_type": "code",
   "execution_count": null,
   "id": "c8e476e9",
   "metadata": {},
   "outputs": [],
   "source": []
  }
 ],
 "metadata": {
  "kernelspec": {
   "display_name": "Python 3",
   "language": "python",
   "name": "python3"
  },
  "language_info": {
   "codemirror_mode": {
    "name": "ipython",
    "version": 3
   },
   "file_extension": ".py",
   "mimetype": "text/x-python",
   "name": "python",
   "nbconvert_exporter": "python",
   "pygments_lexer": "ipython3",
   "version": "3.8.5"
  }
 },
 "nbformat": 4,
 "nbformat_minor": 5
}
